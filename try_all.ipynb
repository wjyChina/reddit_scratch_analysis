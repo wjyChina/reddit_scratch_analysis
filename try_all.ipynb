{
 "cells": [
  {
   "cell_type": "code",
   "execution_count": 171,
   "metadata": {},
   "outputs": [],
   "source": [
    "### part of code in  is copied from https://medium.com/@RareLoot/using-pushshifts-api-to-extract-reddit-submissions-fb517b286563\n",
    "import pandas as pd\n",
    "import requests\n",
    "import json\n",
    "import csv\n",
    "import time\n",
    "import datetime\n",
    "import praw\n",
    "import matplotlib.pyplot as plt\n",
    "import gc"
   ]
  },
  {
   "cell_type": "markdown",
   "metadata": {},
   "source": [
    "# Scratch"
   ]
  },
  {
   "cell_type": "code",
   "execution_count": 57,
   "metadata": {},
   "outputs": [],
   "source": [
    "def getPushshiftData(after,sub):\n",
    "    url = 'https://api.pushshift.io/reddit/search/submission/?subreddit='+str(sub)+'&size=1000&after='+str(after)\n",
    "    print(url)\n",
    "    r = requests.get(url)\n",
    "    data = json.loads(r.text)\n",
    "    return data['data']"
   ]
  },
  {
   "cell_type": "code",
   "execution_count": 58,
   "metadata": {},
   "outputs": [],
   "source": [
    "def collectSubData(subm):\n",
    "    subData = list() #list to store data points\n",
    "    title = subm['title']\n",
    "    url = subm['url']\n",
    "    try:\n",
    "        flair = subm['link_flair_text']\n",
    "    except KeyError:\n",
    "        flair = \"NaN\"    \n",
    "    author = subm['author']\n",
    "    sub_id = subm['id']\n",
    "    score = subm['score']\n",
    "    created = datetime.datetime.fromtimestamp(subm['created_utc']) #1520561700.0\n",
    "    numComms = subm['num_comments']\n",
    "    permalink = subm['permalink']\n",
    "    subData.append((sub_id,title,url,author,score,created,numComms,permalink,flair))\n",
    "    subStats[sub_id] = subData"
   ]
  },
  {
   "cell_type": "code",
   "execution_count": 90,
   "metadata": {},
   "outputs": [],
   "source": [
    "#Subreddit to query\n",
    "sub='Coronavirus'\n",
    "after = \"2d\"  \n",
    "subCount = 0\n",
    "subStats = {}"
   ]
  },
  {
   "cell_type": "code",
   "execution_count": 91,
   "metadata": {},
   "outputs": [
    {
     "name": "stdout",
     "output_type": "stream",
     "text": [
      "https://api.pushshift.io/reddit/search/submission/?subreddit=Coronavirus&size=1000&after=2d\n",
      "1000\n",
      "2020-03-21 15:06:58\n",
      "https://api.pushshift.io/reddit/search/submission/?subreddit=Coronavirus&size=1000&after=1584817618\n",
      "1000\n",
      "2020-03-21 19:58:03\n",
      "https://api.pushshift.io/reddit/search/submission/?subreddit=Coronavirus&size=1000&after=1584835083\n",
      "1000\n",
      "2020-03-22 03:18:59\n",
      "https://api.pushshift.io/reddit/search/submission/?subreddit=Coronavirus&size=1000&after=1584861539\n",
      "1000\n",
      "2020-03-22 10:29:15\n",
      "https://api.pushshift.io/reddit/search/submission/?subreddit=Coronavirus&size=1000&after=1584887355\n",
      "1000\n",
      "2020-03-22 14:44:48\n",
      "https://api.pushshift.io/reddit/search/submission/?subreddit=Coronavirus&size=1000&after=1584902688\n",
      "1000\n",
      "2020-03-22 19:13:14\n",
      "https://api.pushshift.io/reddit/search/submission/?subreddit=Coronavirus&size=1000&after=1584918794\n",
      "1000\n",
      "2020-03-23 01:17:52\n",
      "https://api.pushshift.io/reddit/search/submission/?subreddit=Coronavirus&size=1000&after=1584940672\n",
      "1000\n",
      "2020-03-23 09:32:38\n",
      "https://api.pushshift.io/reddit/search/submission/?subreddit=Coronavirus&size=1000&after=1584970358\n",
      "206\n",
      "2020-03-23 10:37:08\n",
      "https://api.pushshift.io/reddit/search/submission/?subreddit=Coronavirus&size=1000&after=1584974228\n",
      "0\n"
     ]
    }
   ],
   "source": [
    "data = getPushshiftData(after, sub)\n",
    "# Will run until all posts have been gathered \n",
    "# from the 'after' date up until before date\n",
    "while len(data) > 0:\n",
    "    for submission in data:\n",
    "        collectSubData(submission)\n",
    "        subCount+=1\n",
    "    # Calls getPushshiftData() with the created date of the last submission\n",
    "    print(len(data))\n",
    "    print(str(datetime.datetime.fromtimestamp(data[-1]['created_utc'])))\n",
    "    after = data[-1]['created_utc']\n",
    "    data = getPushshiftData(after, sub)\n",
    "    \n",
    "print(len(data))"
   ]
  },
  {
   "cell_type": "markdown",
   "metadata": {},
   "source": [
    "#### Number of submissions"
   ]
  },
  {
   "cell_type": "code",
   "execution_count": 92,
   "metadata": {},
   "outputs": [
    {
     "name": "stdout",
     "output_type": "stream",
     "text": [
      "8206 submissions have added to list\n"
     ]
    }
   ],
   "source": [
    "print(str(len(subStats)) + \" submissions have added to list\")"
   ]
  },
  {
   "cell_type": "code",
   "execution_count": 93,
   "metadata": {},
   "outputs": [],
   "source": [
    "posts=[]\n",
    "for i in list(subStats.values()):\n",
    "    posts.append([i[0][0],i[0][1],i[0][4],i[0][5],i[0][6]])\n",
    "posts = pd.DataFrame(posts,columns=['id', 'title', 'score', 'created',  'numComms'])"
   ]
  },
  {
   "cell_type": "code",
   "execution_count": 94,
   "metadata": {},
   "outputs": [
    {
     "data": {
      "text/html": [
       "<div>\n",
       "<style scoped>\n",
       "    .dataframe tbody tr th:only-of-type {\n",
       "        vertical-align: middle;\n",
       "    }\n",
       "\n",
       "    .dataframe tbody tr th {\n",
       "        vertical-align: top;\n",
       "    }\n",
       "\n",
       "    .dataframe thead th {\n",
       "        text-align: right;\n",
       "    }\n",
       "</style>\n",
       "<table border=\"1\" class=\"dataframe\">\n",
       "  <thead>\n",
       "    <tr style=\"text-align: right;\">\n",
       "      <th></th>\n",
       "      <th>id</th>\n",
       "      <th>title</th>\n",
       "      <th>score</th>\n",
       "      <th>created</th>\n",
       "      <th>numComms</th>\n",
       "    </tr>\n",
       "  </thead>\n",
       "  <tbody>\n",
       "    <tr>\n",
       "      <td>0</td>\n",
       "      <td>fmfw4l</td>\n",
       "      <td>Setting the mood for the foreseeable future</td>\n",
       "      <td>1</td>\n",
       "      <td>2020-03-21 10</td>\n",
       "      <td>1</td>\n",
       "    </tr>\n",
       "    <tr>\n",
       "      <td>1</td>\n",
       "      <td>fmfw8z</td>\n",
       "      <td>N.J.'s 500 new-car dealers think they’re essen...</td>\n",
       "      <td>1</td>\n",
       "      <td>2020-03-21 10</td>\n",
       "      <td>45</td>\n",
       "    </tr>\n",
       "    <tr>\n",
       "      <td>2</td>\n",
       "      <td>fmfweg</td>\n",
       "      <td>Quarantine - Original Song</td>\n",
       "      <td>1</td>\n",
       "      <td>2020-03-21 10</td>\n",
       "      <td>1</td>\n",
       "    </tr>\n",
       "    <tr>\n",
       "      <td>3</td>\n",
       "      <td>fmfwfj</td>\n",
       "      <td>Australians keep crowding beaches despite coro...</td>\n",
       "      <td>1</td>\n",
       "      <td>2020-03-21 10</td>\n",
       "      <td>40</td>\n",
       "    </tr>\n",
       "    <tr>\n",
       "      <td>4</td>\n",
       "      <td>fmfwi7</td>\n",
       "      <td>Florida Woman with Coronavirus Says U.S. is No...</td>\n",
       "      <td>1</td>\n",
       "      <td>2020-03-21 10</td>\n",
       "      <td>84</td>\n",
       "    </tr>\n",
       "  </tbody>\n",
       "</table>\n",
       "</div>"
      ],
      "text/plain": [
       "       id                                              title  score  \\\n",
       "0  fmfw4l        Setting the mood for the foreseeable future      1   \n",
       "1  fmfw8z  N.J.'s 500 new-car dealers think they’re essen...      1   \n",
       "2  fmfweg                         Quarantine - Original Song      1   \n",
       "3  fmfwfj  Australians keep crowding beaches despite coro...      1   \n",
       "4  fmfwi7  Florida Woman with Coronavirus Says U.S. is No...      1   \n",
       "\n",
       "         created  numComms  \n",
       "0  2020-03-21 10         1  \n",
       "1  2020-03-21 10        45  \n",
       "2  2020-03-21 10         1  \n",
       "3  2020-03-21 10        40  \n",
       "4  2020-03-21 10        84  "
      ]
     },
     "execution_count": 94,
     "metadata": {},
     "output_type": "execute_result"
    }
   ],
   "source": [
    "posts['created']=posts['created'].apply(lambda x:x.strftime('%Y-%m-%d %H'))\n",
    "posts.head()"
   ]
  },
  {
   "cell_type": "code",
   "execution_count": 95,
   "metadata": {},
   "outputs": [],
   "source": [
    "posts.to_json('posts.json')"
   ]
  },
  {
   "cell_type": "code",
   "execution_count": 96,
   "metadata": {},
   "outputs": [],
   "source": [
    "reddit = praw.Reddit(client_id=\"wsDNPCbGFRS90g\",client_secret='hkNuSf8On7PQW25v9EPhRMg9cMQ',user_agent='wjy')"
   ]
  },
  {
   "cell_type": "code",
   "execution_count": 97,
   "metadata": {},
   "outputs": [],
   "source": [
    "posts=pd.read_json('posts.json')"
   ]
  },
  {
   "cell_type": "markdown",
   "metadata": {},
   "source": [
    "### store the number of subcomments of each comment"
   ]
  },
  {
   "cell_type": "code",
   "execution_count": 64,
   "metadata": {},
   "outputs": [],
   "source": [
    "### count the subcomment of each comment\n",
    "def subcomment_num(comment):\n",
    "    num=0\n",
    "    comment_queue = [comment]\n",
    "    while comment_queue:\n",
    "        comment = comment_queue.pop(0)\n",
    "        num+=1\n",
    "        comment_queue.extend(comment.replies)\n",
    "    return num"
   ]
  },
  {
   "cell_type": "code",
   "execution_count": 99,
   "metadata": {},
   "outputs": [
    {
     "name": "stdout",
     "output_type": "stream",
     "text": [
      "progress: 250\n",
      "progress: 500\n",
      "progress: 750\n",
      "progress: 1000\n",
      "progress: 1250\n",
      "progress: 1500\n",
      "progress: 1750\n",
      "progress: 2000\n",
      "progress: 2250\n",
      "progress: 2500\n",
      "progress: 2750\n",
      "progress: 3000\n",
      "progress: 3250\n",
      "progress: 3500\n",
      "progress: 3750\n",
      "progress: 4000\n",
      "progress: 4250\n",
      "progress: 4500\n",
      "progress: 4750\n",
      "progress: 5000\n",
      "progress: 5250\n",
      "progress: 5500\n",
      "progress: 5750\n",
      "progress: 6000\n",
      "progress: 6250\n",
      "progress: 6500\n",
      "progress: 6750\n",
      "progress: 7000\n",
      "progress: 7250\n",
      "progress: 7500\n",
      "progress: 7750\n",
      "progress: 8000\n"
     ]
    },
    {
     "data": {
      "text/html": [
       "<div>\n",
       "<style scoped>\n",
       "    .dataframe tbody tr th:only-of-type {\n",
       "        vertical-align: middle;\n",
       "    }\n",
       "\n",
       "    .dataframe tbody tr th {\n",
       "        vertical-align: top;\n",
       "    }\n",
       "\n",
       "    .dataframe thead th {\n",
       "        text-align: right;\n",
       "    }\n",
       "</style>\n",
       "<table border=\"1\" class=\"dataframe\">\n",
       "  <thead>\n",
       "    <tr style=\"text-align: right;\">\n",
       "      <th></th>\n",
       "      <th>comment</th>\n",
       "      <th>title_id</th>\n",
       "      <th>subcomments_num</th>\n",
       "      <th>distinguished</th>\n",
       "      <th>score</th>\n",
       "    </tr>\n",
       "  </thead>\n",
       "  <tbody>\n",
       "    <tr>\n",
       "      <td>0</td>\n",
       "      <td>Your post has been removed. Keep posts on topi...</td>\n",
       "      <td>0</td>\n",
       "      <td>1</td>\n",
       "      <td>moderator</td>\n",
       "      <td>1</td>\n",
       "    </tr>\n",
       "    <tr>\n",
       "      <td>1</td>\n",
       "      <td>Their service departments and rental services ...</td>\n",
       "      <td>1</td>\n",
       "      <td>9</td>\n",
       "      <td>None</td>\n",
       "      <td>41</td>\n",
       "    </tr>\n",
       "    <tr>\n",
       "      <td>2</td>\n",
       "      <td>Who in their right mind is shopping for cars r...</td>\n",
       "      <td>1</td>\n",
       "      <td>13</td>\n",
       "      <td>None</td>\n",
       "      <td>13</td>\n",
       "    </tr>\n",
       "    <tr>\n",
       "      <td>3</td>\n",
       "      <td>I guess they are kind of honestly. Think of if...</td>\n",
       "      <td>1</td>\n",
       "      <td>1</td>\n",
       "      <td>None</td>\n",
       "      <td>5</td>\n",
       "    </tr>\n",
       "    <tr>\n",
       "      <td>4</td>\n",
       "      <td>Shut it down!</td>\n",
       "      <td>1</td>\n",
       "      <td>1</td>\n",
       "      <td>None</td>\n",
       "      <td>3</td>\n",
       "    </tr>\n",
       "    <tr>\n",
       "      <td>5</td>\n",
       "      <td>This essential thing is being abused so much I...</td>\n",
       "      <td>1</td>\n",
       "      <td>1</td>\n",
       "      <td>None</td>\n",
       "      <td>3</td>\n",
       "    </tr>\n",
       "    <tr>\n",
       "      <td>6</td>\n",
       "      <td>In PA, our sales department is closed...Servic...</td>\n",
       "      <td>1</td>\n",
       "      <td>1</td>\n",
       "      <td>None</td>\n",
       "      <td>3</td>\n",
       "    </tr>\n",
       "    <tr>\n",
       "      <td>7</td>\n",
       "      <td>Waiting for the inevitable \"gun stores are ess...</td>\n",
       "      <td>1</td>\n",
       "      <td>2</td>\n",
       "      <td>None</td>\n",
       "      <td>5</td>\n",
       "    </tr>\n",
       "    <tr>\n",
       "      <td>8</td>\n",
       "      <td>the ultra luxury car dealership is open in my ...</td>\n",
       "      <td>1</td>\n",
       "      <td>1</td>\n",
       "      <td>None</td>\n",
       "      <td>2</td>\n",
       "    </tr>\n",
       "    <tr>\n",
       "      <td>9</td>\n",
       "      <td>Make them do ventilators :)</td>\n",
       "      <td>1</td>\n",
       "      <td>6</td>\n",
       "      <td>None</td>\n",
       "      <td>7</td>\n",
       "    </tr>\n",
       "  </tbody>\n",
       "</table>\n",
       "</div>"
      ],
      "text/plain": [
       "                                             comment  title_id  \\\n",
       "0  Your post has been removed. Keep posts on topi...         0   \n",
       "1  Their service departments and rental services ...         1   \n",
       "2  Who in their right mind is shopping for cars r...         1   \n",
       "3  I guess they are kind of honestly. Think of if...         1   \n",
       "4                                      Shut it down!         1   \n",
       "5  This essential thing is being abused so much I...         1   \n",
       "6  In PA, our sales department is closed...Servic...         1   \n",
       "7  Waiting for the inevitable \"gun stores are ess...         1   \n",
       "8  the ultra luxury car dealership is open in my ...         1   \n",
       "9                        Make them do ventilators :)         1   \n",
       "\n",
       "   subcomments_num distinguished  score  \n",
       "0                1     moderator      1  \n",
       "1                9          None     41  \n",
       "2               13          None     13  \n",
       "3                1          None      5  \n",
       "4                1          None      3  \n",
       "5                1          None      3  \n",
       "6                1          None      3  \n",
       "7                2          None      5  \n",
       "8                1          None      2  \n",
       "9                6          None      7  "
      ]
     },
     "execution_count": 99,
     "metadata": {},
     "output_type": "execute_result"
    }
   ],
   "source": [
    "comment=[]\n",
    "key=0\n",
    "for post in posts['id']:\n",
    "    submission = reddit.submission(id=post)\n",
    "    submission.comments.replace_more(limit=0)\n",
    "    for i in submission.comments:\n",
    "        if i.body[:24]==\"Welcome to r/Coronavirus\":\n",
    "            continue\n",
    "        else:\n",
    "            subnum=subcomment_num(i)\n",
    "            comment.append([i.body,key,subnum,i.distinguished,i.score])\n",
    "    key+=1\n",
    "    if key%250==0:\n",
    "        print('progress:',key)\n",
    "comment=pd.DataFrame(comment,columns=['comment','title_id','subcomments_num','distinguished','score'])\n",
    "comment.head(10)"
   ]
  },
  {
   "cell_type": "code",
   "execution_count": 100,
   "metadata": {},
   "outputs": [],
   "source": [
    "comment.to_json('comment.json')"
   ]
  },
  {
   "cell_type": "markdown",
   "metadata": {},
   "source": [
    "# cleaning"
   ]
  },
  {
   "cell_type": "code",
   "execution_count": 259,
   "metadata": {},
   "outputs": [],
   "source": [
    "posts=pd.read_json('posts.json')\n",
    "comment=pd.read_json('comment.json')"
   ]
  },
  {
   "cell_type": "markdown",
   "metadata": {},
   "source": [
    "### replace the US with usa in case we can't distinguish US from us"
   ]
  },
  {
   "cell_type": "code",
   "execution_count": 260,
   "metadata": {},
   "outputs": [],
   "source": [
    "import re"
   ]
  },
  {
   "cell_type": "code",
   "execution_count": 263,
   "metadata": {},
   "outputs": [],
   "source": [
    "def place_us(x):\n",
    "    x=re.sub('US','usa',x)\n",
    "    return x"
   ]
  },
  {
   "cell_type": "code",
   "execution_count": 265,
   "metadata": {},
   "outputs": [],
   "source": [
    "posts.title=posts.title.apply(lambda x: place_us(x))"
   ]
  },
  {
   "cell_type": "code",
   "execution_count": 266,
   "metadata": {},
   "outputs": [],
   "source": [
    "comment.comment=comment.comment.apply(lambda x: place_us(x))"
   ]
  },
  {
   "cell_type": "markdown",
   "metadata": {},
   "source": [
    "### make all alphabets lower case"
   ]
  },
  {
   "cell_type": "code",
   "execution_count": 267,
   "metadata": {},
   "outputs": [
    {
     "data": {
      "text/html": [
       "<div>\n",
       "<style scoped>\n",
       "    .dataframe tbody tr th:only-of-type {\n",
       "        vertical-align: middle;\n",
       "    }\n",
       "\n",
       "    .dataframe tbody tr th {\n",
       "        vertical-align: top;\n",
       "    }\n",
       "\n",
       "    .dataframe thead th {\n",
       "        text-align: right;\n",
       "    }\n",
       "</style>\n",
       "<table border=\"1\" class=\"dataframe\">\n",
       "  <thead>\n",
       "    <tr style=\"text-align: right;\">\n",
       "      <th></th>\n",
       "      <th>id</th>\n",
       "      <th>title</th>\n",
       "      <th>score</th>\n",
       "      <th>created</th>\n",
       "      <th>numComms</th>\n",
       "    </tr>\n",
       "  </thead>\n",
       "  <tbody>\n",
       "    <tr>\n",
       "      <td>0</td>\n",
       "      <td>fmfw4l</td>\n",
       "      <td>setting the mood for the foreseeable future</td>\n",
       "      <td>1</td>\n",
       "      <td>2020-03-21 10:00:00</td>\n",
       "      <td>1</td>\n",
       "    </tr>\n",
       "    <tr>\n",
       "      <td>1</td>\n",
       "      <td>fmfw8z</td>\n",
       "      <td>n.j.'s 500 new-car dealers think they’re essen...</td>\n",
       "      <td>1</td>\n",
       "      <td>2020-03-21 10:00:00</td>\n",
       "      <td>45</td>\n",
       "    </tr>\n",
       "    <tr>\n",
       "      <td>2</td>\n",
       "      <td>fmfweg</td>\n",
       "      <td>quarantine - original song</td>\n",
       "      <td>1</td>\n",
       "      <td>2020-03-21 10:00:00</td>\n",
       "      <td>1</td>\n",
       "    </tr>\n",
       "    <tr>\n",
       "      <td>3</td>\n",
       "      <td>fmfwfj</td>\n",
       "      <td>australians keep crowding beaches despite coro...</td>\n",
       "      <td>1</td>\n",
       "      <td>2020-03-21 10:00:00</td>\n",
       "      <td>40</td>\n",
       "    </tr>\n",
       "    <tr>\n",
       "      <td>4</td>\n",
       "      <td>fmfwi7</td>\n",
       "      <td>florida woman with coronavirus says u.s. is no...</td>\n",
       "      <td>1</td>\n",
       "      <td>2020-03-21 10:00:00</td>\n",
       "      <td>84</td>\n",
       "    </tr>\n",
       "  </tbody>\n",
       "</table>\n",
       "</div>"
      ],
      "text/plain": [
       "       id                                              title  score  \\\n",
       "0  fmfw4l        setting the mood for the foreseeable future      1   \n",
       "1  fmfw8z  n.j.'s 500 new-car dealers think they’re essen...      1   \n",
       "2  fmfweg                         quarantine - original song      1   \n",
       "3  fmfwfj  australians keep crowding beaches despite coro...      1   \n",
       "4  fmfwi7  florida woman with coronavirus says u.s. is no...      1   \n",
       "\n",
       "              created  numComms  \n",
       "0 2020-03-21 10:00:00         1  \n",
       "1 2020-03-21 10:00:00        45  \n",
       "2 2020-03-21 10:00:00         1  \n",
       "3 2020-03-21 10:00:00        40  \n",
       "4 2020-03-21 10:00:00        84  "
      ]
     },
     "execution_count": 267,
     "metadata": {},
     "output_type": "execute_result"
    }
   ],
   "source": [
    "posts['created']=pd.to_datetime(posts['created'],format='%Y-%m-%d %H')\n",
    "posts.title=posts.title.str.lower()\n",
    "posts.head()"
   ]
  },
  {
   "cell_type": "code",
   "execution_count": 268,
   "metadata": {},
   "outputs": [
    {
     "data": {
      "text/html": [
       "<div>\n",
       "<style scoped>\n",
       "    .dataframe tbody tr th:only-of-type {\n",
       "        vertical-align: middle;\n",
       "    }\n",
       "\n",
       "    .dataframe tbody tr th {\n",
       "        vertical-align: top;\n",
       "    }\n",
       "\n",
       "    .dataframe thead th {\n",
       "        text-align: right;\n",
       "    }\n",
       "</style>\n",
       "<table border=\"1\" class=\"dataframe\">\n",
       "  <thead>\n",
       "    <tr style=\"text-align: right;\">\n",
       "      <th></th>\n",
       "      <th>comment</th>\n",
       "      <th>title_id</th>\n",
       "      <th>subcomments_num</th>\n",
       "      <th>distinguished</th>\n",
       "      <th>score</th>\n",
       "    </tr>\n",
       "  </thead>\n",
       "  <tbody>\n",
       "    <tr>\n",
       "      <td>0</td>\n",
       "      <td>your post has been removed. keep posts on topi...</td>\n",
       "      <td>0</td>\n",
       "      <td>1</td>\n",
       "      <td>moderator</td>\n",
       "      <td>1</td>\n",
       "    </tr>\n",
       "    <tr>\n",
       "      <td>1</td>\n",
       "      <td>their service departments and rental services ...</td>\n",
       "      <td>1</td>\n",
       "      <td>9</td>\n",
       "      <td>None</td>\n",
       "      <td>41</td>\n",
       "    </tr>\n",
       "    <tr>\n",
       "      <td>2</td>\n",
       "      <td>who in their right mind is shopping for cars r...</td>\n",
       "      <td>1</td>\n",
       "      <td>13</td>\n",
       "      <td>None</td>\n",
       "      <td>13</td>\n",
       "    </tr>\n",
       "    <tr>\n",
       "      <td>3</td>\n",
       "      <td>i guess they are kind of honestly. think of if...</td>\n",
       "      <td>1</td>\n",
       "      <td>1</td>\n",
       "      <td>None</td>\n",
       "      <td>5</td>\n",
       "    </tr>\n",
       "    <tr>\n",
       "      <td>4</td>\n",
       "      <td>shut it down!</td>\n",
       "      <td>1</td>\n",
       "      <td>1</td>\n",
       "      <td>None</td>\n",
       "      <td>3</td>\n",
       "    </tr>\n",
       "  </tbody>\n",
       "</table>\n",
       "</div>"
      ],
      "text/plain": [
       "                                             comment  title_id  \\\n",
       "0  your post has been removed. keep posts on topi...         0   \n",
       "1  their service departments and rental services ...         1   \n",
       "2  who in their right mind is shopping for cars r...         1   \n",
       "3  i guess they are kind of honestly. think of if...         1   \n",
       "4                                      shut it down!         1   \n",
       "\n",
       "   subcomments_num distinguished  score  \n",
       "0                1     moderator      1  \n",
       "1                9          None     41  \n",
       "2               13          None     13  \n",
       "3                1          None      5  \n",
       "4                1          None      3  "
      ]
     },
     "execution_count": 268,
     "metadata": {},
     "output_type": "execute_result"
    }
   ],
   "source": [
    "comment.comment=comment.comment.str.lower()\n",
    "comment.head()"
   ]
  },
  {
   "cell_type": "markdown",
   "metadata": {},
   "source": [
    "### delete the distinguished comment and the number in numComms"
   ]
  },
  {
   "cell_type": "code",
   "execution_count": 269,
   "metadata": {},
   "outputs": [
    {
     "data": {
      "text/html": [
       "<div>\n",
       "<style scoped>\n",
       "    .dataframe tbody tr th:only-of-type {\n",
       "        vertical-align: middle;\n",
       "    }\n",
       "\n",
       "    .dataframe tbody tr th {\n",
       "        vertical-align: top;\n",
       "    }\n",
       "\n",
       "    .dataframe thead th {\n",
       "        text-align: right;\n",
       "    }\n",
       "</style>\n",
       "<table border=\"1\" class=\"dataframe\">\n",
       "  <thead>\n",
       "    <tr style=\"text-align: right;\">\n",
       "      <th></th>\n",
       "      <th>count</th>\n",
       "    </tr>\n",
       "    <tr>\n",
       "      <th>title_id</th>\n",
       "      <th></th>\n",
       "    </tr>\n",
       "  </thead>\n",
       "  <tbody>\n",
       "    <tr>\n",
       "      <td>0</td>\n",
       "      <td>1</td>\n",
       "    </tr>\n",
       "    <tr>\n",
       "      <td>2</td>\n",
       "      <td>1</td>\n",
       "    </tr>\n",
       "    <tr>\n",
       "      <td>4</td>\n",
       "      <td>1</td>\n",
       "    </tr>\n",
       "    <tr>\n",
       "      <td>7</td>\n",
       "      <td>1</td>\n",
       "    </tr>\n",
       "    <tr>\n",
       "      <td>10</td>\n",
       "      <td>1</td>\n",
       "    </tr>\n",
       "  </tbody>\n",
       "</table>\n",
       "</div>"
      ],
      "text/plain": [
       "          count\n",
       "title_id       \n",
       "0             1\n",
       "2             1\n",
       "4             1\n",
       "7             1\n",
       "10            1"
      ]
     },
     "execution_count": 269,
     "metadata": {},
     "output_type": "execute_result"
    }
   ],
   "source": [
    "auto_num=pd.DataFrame(comment[comment.distinguished=='moderator'].groupby('title_id')['comment'].count())\n",
    "auto_num.columns=['count']\n",
    "auto_num.head()"
   ]
  },
  {
   "cell_type": "code",
   "execution_count": 270,
   "metadata": {},
   "outputs": [
    {
     "data": {
      "text/plain": [
       "1    2688\n",
       "2     311\n",
       "3      18\n",
       "Name: count, dtype: int64"
      ]
     },
     "execution_count": 270,
     "metadata": {},
     "output_type": "execute_result"
    }
   ],
   "source": [
    "auto_num['count'].value_counts()"
   ]
  },
  {
   "cell_type": "code",
   "execution_count": 271,
   "metadata": {},
   "outputs": [
    {
     "data": {
      "text/html": [
       "<div>\n",
       "<style scoped>\n",
       "    .dataframe tbody tr th:only-of-type {\n",
       "        vertical-align: middle;\n",
       "    }\n",
       "\n",
       "    .dataframe tbody tr th {\n",
       "        vertical-align: top;\n",
       "    }\n",
       "\n",
       "    .dataframe thead th {\n",
       "        text-align: right;\n",
       "    }\n",
       "</style>\n",
       "<table border=\"1\" class=\"dataframe\">\n",
       "  <thead>\n",
       "    <tr style=\"text-align: right;\">\n",
       "      <th></th>\n",
       "      <th>id</th>\n",
       "      <th>title</th>\n",
       "      <th>score</th>\n",
       "      <th>created</th>\n",
       "      <th>numComms</th>\n",
       "      <th>count</th>\n",
       "    </tr>\n",
       "  </thead>\n",
       "  <tbody>\n",
       "    <tr>\n",
       "      <td>0</td>\n",
       "      <td>fmfw4l</td>\n",
       "      <td>setting the mood for the foreseeable future</td>\n",
       "      <td>1</td>\n",
       "      <td>2020-03-21 10:00:00</td>\n",
       "      <td>1</td>\n",
       "      <td>1.0</td>\n",
       "    </tr>\n",
       "    <tr>\n",
       "      <td>1</td>\n",
       "      <td>fmfw8z</td>\n",
       "      <td>n.j.'s 500 new-car dealers think they’re essen...</td>\n",
       "      <td>1</td>\n",
       "      <td>2020-03-21 10:00:00</td>\n",
       "      <td>45</td>\n",
       "      <td>NaN</td>\n",
       "    </tr>\n",
       "    <tr>\n",
       "      <td>2</td>\n",
       "      <td>fmfweg</td>\n",
       "      <td>quarantine - original song</td>\n",
       "      <td>1</td>\n",
       "      <td>2020-03-21 10:00:00</td>\n",
       "      <td>1</td>\n",
       "      <td>1.0</td>\n",
       "    </tr>\n",
       "    <tr>\n",
       "      <td>3</td>\n",
       "      <td>fmfwfj</td>\n",
       "      <td>australians keep crowding beaches despite coro...</td>\n",
       "      <td>1</td>\n",
       "      <td>2020-03-21 10:00:00</td>\n",
       "      <td>40</td>\n",
       "      <td>NaN</td>\n",
       "    </tr>\n",
       "    <tr>\n",
       "      <td>4</td>\n",
       "      <td>fmfwi7</td>\n",
       "      <td>florida woman with coronavirus says u.s. is no...</td>\n",
       "      <td>1</td>\n",
       "      <td>2020-03-21 10:00:00</td>\n",
       "      <td>84</td>\n",
       "      <td>1.0</td>\n",
       "    </tr>\n",
       "  </tbody>\n",
       "</table>\n",
       "</div>"
      ],
      "text/plain": [
       "       id                                              title  score  \\\n",
       "0  fmfw4l        setting the mood for the foreseeable future      1   \n",
       "1  fmfw8z  n.j.'s 500 new-car dealers think they’re essen...      1   \n",
       "2  fmfweg                         quarantine - original song      1   \n",
       "3  fmfwfj  australians keep crowding beaches despite coro...      1   \n",
       "4  fmfwi7  florida woman with coronavirus says u.s. is no...      1   \n",
       "\n",
       "              created  numComms  count  \n",
       "0 2020-03-21 10:00:00         1    1.0  \n",
       "1 2020-03-21 10:00:00        45    NaN  \n",
       "2 2020-03-21 10:00:00         1    1.0  \n",
       "3 2020-03-21 10:00:00        40    NaN  \n",
       "4 2020-03-21 10:00:00        84    1.0  "
      ]
     },
     "execution_count": 271,
     "metadata": {},
     "output_type": "execute_result"
    }
   ],
   "source": [
    "posts_cache=pd.merge(posts,auto_num,how='left',left_index=True, right_index=True)\n",
    "posts_cache.head()"
   ]
  },
  {
   "cell_type": "code",
   "execution_count": 272,
   "metadata": {},
   "outputs": [
    {
     "data": {
      "text/html": [
       "<div>\n",
       "<style scoped>\n",
       "    .dataframe tbody tr th:only-of-type {\n",
       "        vertical-align: middle;\n",
       "    }\n",
       "\n",
       "    .dataframe tbody tr th {\n",
       "        vertical-align: top;\n",
       "    }\n",
       "\n",
       "    .dataframe thead th {\n",
       "        text-align: right;\n",
       "    }\n",
       "</style>\n",
       "<table border=\"1\" class=\"dataframe\">\n",
       "  <thead>\n",
       "    <tr style=\"text-align: right;\">\n",
       "      <th></th>\n",
       "      <th>id</th>\n",
       "      <th>title</th>\n",
       "      <th>score</th>\n",
       "      <th>created</th>\n",
       "      <th>numComms</th>\n",
       "      <th>count</th>\n",
       "    </tr>\n",
       "  </thead>\n",
       "  <tbody>\n",
       "    <tr>\n",
       "      <td>0</td>\n",
       "      <td>fmfw4l</td>\n",
       "      <td>setting the mood for the foreseeable future</td>\n",
       "      <td>1</td>\n",
       "      <td>2020-03-21 10:00:00</td>\n",
       "      <td>0.0</td>\n",
       "      <td>1.0</td>\n",
       "    </tr>\n",
       "    <tr>\n",
       "      <td>1</td>\n",
       "      <td>fmfw8z</td>\n",
       "      <td>n.j.'s 500 new-car dealers think they’re essen...</td>\n",
       "      <td>1</td>\n",
       "      <td>2020-03-21 10:00:00</td>\n",
       "      <td>45.0</td>\n",
       "      <td>0.0</td>\n",
       "    </tr>\n",
       "    <tr>\n",
       "      <td>2</td>\n",
       "      <td>fmfweg</td>\n",
       "      <td>quarantine - original song</td>\n",
       "      <td>1</td>\n",
       "      <td>2020-03-21 10:00:00</td>\n",
       "      <td>0.0</td>\n",
       "      <td>1.0</td>\n",
       "    </tr>\n",
       "    <tr>\n",
       "      <td>3</td>\n",
       "      <td>fmfwfj</td>\n",
       "      <td>australians keep crowding beaches despite coro...</td>\n",
       "      <td>1</td>\n",
       "      <td>2020-03-21 10:00:00</td>\n",
       "      <td>40.0</td>\n",
       "      <td>0.0</td>\n",
       "    </tr>\n",
       "    <tr>\n",
       "      <td>4</td>\n",
       "      <td>fmfwi7</td>\n",
       "      <td>florida woman with coronavirus says u.s. is no...</td>\n",
       "      <td>1</td>\n",
       "      <td>2020-03-21 10:00:00</td>\n",
       "      <td>83.0</td>\n",
       "      <td>1.0</td>\n",
       "    </tr>\n",
       "  </tbody>\n",
       "</table>\n",
       "</div>"
      ],
      "text/plain": [
       "       id                                              title  score  \\\n",
       "0  fmfw4l        setting the mood for the foreseeable future      1   \n",
       "1  fmfw8z  n.j.'s 500 new-car dealers think they’re essen...      1   \n",
       "2  fmfweg                         quarantine - original song      1   \n",
       "3  fmfwfj  australians keep crowding beaches despite coro...      1   \n",
       "4  fmfwi7  florida woman with coronavirus says u.s. is no...      1   \n",
       "\n",
       "              created  numComms  count  \n",
       "0 2020-03-21 10:00:00       0.0    1.0  \n",
       "1 2020-03-21 10:00:00      45.0    0.0  \n",
       "2 2020-03-21 10:00:00       0.0    1.0  \n",
       "3 2020-03-21 10:00:00      40.0    0.0  \n",
       "4 2020-03-21 10:00:00      83.0    1.0  "
      ]
     },
     "execution_count": 272,
     "metadata": {},
     "output_type": "execute_result"
    }
   ],
   "source": [
    "posts_cache['count']=posts_cache['count'].fillna(0) \n",
    "posts_cache['numComms']=posts_cache['numComms']-posts_cache['count']\n",
    "posts_cache.head()"
   ]
  },
  {
   "cell_type": "code",
   "execution_count": 273,
   "metadata": {},
   "outputs": [
    {
     "data": {
      "text/html": [
       "<div>\n",
       "<style scoped>\n",
       "    .dataframe tbody tr th:only-of-type {\n",
       "        vertical-align: middle;\n",
       "    }\n",
       "\n",
       "    .dataframe tbody tr th {\n",
       "        vertical-align: top;\n",
       "    }\n",
       "\n",
       "    .dataframe thead th {\n",
       "        text-align: right;\n",
       "    }\n",
       "</style>\n",
       "<table border=\"1\" class=\"dataframe\">\n",
       "  <thead>\n",
       "    <tr style=\"text-align: right;\">\n",
       "      <th></th>\n",
       "      <th>id</th>\n",
       "      <th>title</th>\n",
       "      <th>score</th>\n",
       "      <th>created</th>\n",
       "      <th>numComms</th>\n",
       "    </tr>\n",
       "  </thead>\n",
       "  <tbody>\n",
       "    <tr>\n",
       "      <td>0</td>\n",
       "      <td>fmfw4l</td>\n",
       "      <td>setting the mood for the foreseeable future</td>\n",
       "      <td>1</td>\n",
       "      <td>2020-03-21 10:00:00</td>\n",
       "      <td>0.0</td>\n",
       "    </tr>\n",
       "    <tr>\n",
       "      <td>1</td>\n",
       "      <td>fmfw8z</td>\n",
       "      <td>n.j.'s 500 new-car dealers think they’re essen...</td>\n",
       "      <td>1</td>\n",
       "      <td>2020-03-21 10:00:00</td>\n",
       "      <td>45.0</td>\n",
       "    </tr>\n",
       "    <tr>\n",
       "      <td>2</td>\n",
       "      <td>fmfweg</td>\n",
       "      <td>quarantine - original song</td>\n",
       "      <td>1</td>\n",
       "      <td>2020-03-21 10:00:00</td>\n",
       "      <td>0.0</td>\n",
       "    </tr>\n",
       "    <tr>\n",
       "      <td>3</td>\n",
       "      <td>fmfwfj</td>\n",
       "      <td>australians keep crowding beaches despite coro...</td>\n",
       "      <td>1</td>\n",
       "      <td>2020-03-21 10:00:00</td>\n",
       "      <td>40.0</td>\n",
       "    </tr>\n",
       "    <tr>\n",
       "      <td>4</td>\n",
       "      <td>fmfwi7</td>\n",
       "      <td>florida woman with coronavirus says u.s. is no...</td>\n",
       "      <td>1</td>\n",
       "      <td>2020-03-21 10:00:00</td>\n",
       "      <td>83.0</td>\n",
       "    </tr>\n",
       "  </tbody>\n",
       "</table>\n",
       "</div>"
      ],
      "text/plain": [
       "       id                                              title  score  \\\n",
       "0  fmfw4l        setting the mood for the foreseeable future      1   \n",
       "1  fmfw8z  n.j.'s 500 new-car dealers think they’re essen...      1   \n",
       "2  fmfweg                         quarantine - original song      1   \n",
       "3  fmfwfj  australians keep crowding beaches despite coro...      1   \n",
       "4  fmfwi7  florida woman with coronavirus says u.s. is no...      1   \n",
       "\n",
       "              created  numComms  \n",
       "0 2020-03-21 10:00:00       0.0  \n",
       "1 2020-03-21 10:00:00      45.0  \n",
       "2 2020-03-21 10:00:00       0.0  \n",
       "3 2020-03-21 10:00:00      40.0  \n",
       "4 2020-03-21 10:00:00      83.0  "
      ]
     },
     "execution_count": 273,
     "metadata": {},
     "output_type": "execute_result"
    }
   ],
   "source": [
    "posts=posts_cache\n",
    "posts=posts.drop('count',axis=1)\n",
    "posts.head()"
   ]
  },
  {
   "cell_type": "code",
   "execution_count": 274,
   "metadata": {},
   "outputs": [
    {
     "data": {
      "text/plain": [
       "71997"
      ]
     },
     "execution_count": 274,
     "metadata": {},
     "output_type": "execute_result"
    }
   ],
   "source": [
    "del(posts_cache)\n",
    "gc.collect()"
   ]
  },
  {
   "cell_type": "code",
   "execution_count": 275,
   "metadata": {},
   "outputs": [],
   "source": [
    "comment=comment[comment.distinguished!='moderator']"
   ]
  },
  {
   "cell_type": "code",
   "execution_count": 276,
   "metadata": {},
   "outputs": [
    {
     "data": {
      "text/html": [
       "<div>\n",
       "<style scoped>\n",
       "    .dataframe tbody tr th:only-of-type {\n",
       "        vertical-align: middle;\n",
       "    }\n",
       "\n",
       "    .dataframe tbody tr th {\n",
       "        vertical-align: top;\n",
       "    }\n",
       "\n",
       "    .dataframe thead th {\n",
       "        text-align: right;\n",
       "    }\n",
       "</style>\n",
       "<table border=\"1\" class=\"dataframe\">\n",
       "  <thead>\n",
       "    <tr style=\"text-align: right;\">\n",
       "      <th></th>\n",
       "      <th>comment</th>\n",
       "      <th>title_id</th>\n",
       "      <th>subcomments_num</th>\n",
       "      <th>score</th>\n",
       "    </tr>\n",
       "  </thead>\n",
       "  <tbody>\n",
       "    <tr>\n",
       "      <td>1</td>\n",
       "      <td>their service departments and rental services ...</td>\n",
       "      <td>1</td>\n",
       "      <td>9</td>\n",
       "      <td>41</td>\n",
       "    </tr>\n",
       "    <tr>\n",
       "      <td>2</td>\n",
       "      <td>who in their right mind is shopping for cars r...</td>\n",
       "      <td>1</td>\n",
       "      <td>13</td>\n",
       "      <td>13</td>\n",
       "    </tr>\n",
       "    <tr>\n",
       "      <td>3</td>\n",
       "      <td>i guess they are kind of honestly. think of if...</td>\n",
       "      <td>1</td>\n",
       "      <td>1</td>\n",
       "      <td>5</td>\n",
       "    </tr>\n",
       "    <tr>\n",
       "      <td>4</td>\n",
       "      <td>shut it down!</td>\n",
       "      <td>1</td>\n",
       "      <td>1</td>\n",
       "      <td>3</td>\n",
       "    </tr>\n",
       "    <tr>\n",
       "      <td>5</td>\n",
       "      <td>this essential thing is being abused so much i...</td>\n",
       "      <td>1</td>\n",
       "      <td>1</td>\n",
       "      <td>3</td>\n",
       "    </tr>\n",
       "  </tbody>\n",
       "</table>\n",
       "</div>"
      ],
      "text/plain": [
       "                                             comment  title_id  \\\n",
       "1  their service departments and rental services ...         1   \n",
       "2  who in their right mind is shopping for cars r...         1   \n",
       "3  i guess they are kind of honestly. think of if...         1   \n",
       "4                                      shut it down!         1   \n",
       "5  this essential thing is being abused so much i...         1   \n",
       "\n",
       "   subcomments_num  score  \n",
       "1                9     41  \n",
       "2               13     13  \n",
       "3                1      5  \n",
       "4                1      3  \n",
       "5                1      3  "
      ]
     },
     "execution_count": 276,
     "metadata": {},
     "output_type": "execute_result"
    }
   ],
   "source": [
    "comment=comment.drop('distinguished',axis=1)\n",
    "comment.head()"
   ]
  },
  {
   "cell_type": "markdown",
   "metadata": {},
   "source": [
    "### clear the puncts"
   ]
  },
  {
   "cell_type": "code",
   "execution_count": 185,
   "metadata": {},
   "outputs": [],
   "source": [
    "puncts = [',', '.', '\"', ':', ')', '(', '-', '!', '?', '|', ';', \"'\", '$', '&', '/', '[', ']', '>', '%', '=', '#', '*', '+', '\\\\', '•',  '~', '@', '£', \n",
    " '·', '_', '{', '}', '©', '^', '®', '`',  '<', '→', '°', '€', '™', '›',  '♥', '←', '×', '§', '″', '′', 'Â', '█', '½', 'à', '…', \n",
    " '“', '★', '”', '–', '●', 'â', '►', '−', '¢', '²', '¬', '░', '¶', '↑', '±', '¿', '▾', '═', '¦', '║', '―', '¥', '▓', '—', '‹', '─', \n",
    " '▒', '：', '¼', '⊕', '▼', '▪', '†', '■', '’', '▀', '¨', '▄', '♫', '☆', 'é', '¯', '♦', '¤', '▲', 'è', '¸', '¾', 'Ã', '⋅', '‘', '∞', \n",
    " '∙', '）', '↓', '、', '│', '（', '»', '，', '♪', '╩', '╚', '³', '・', '╦', '╣', '╔', '╗', '▬', '❤', 'ï', 'Ø', '¹', '≤', '‡', '√', ]\n",
    "def clean_puncts(x):\n",
    "    x=str(x)\n",
    "    for punct in puncts:\n",
    "        if punct in x:\n",
    "            x=x.replace(punct,' ')\n",
    "    return x"
   ]
  },
  {
   "cell_type": "code",
   "execution_count": 277,
   "metadata": {},
   "outputs": [],
   "source": [
    "posts.title=posts.title.apply(lambda x: clean_puncts(x))\n",
    "comment.comment=comment.comment.apply(lambda x: clean_puncts(x))"
   ]
  },
  {
   "cell_type": "markdown",
   "metadata": {},
   "source": [
    "## Analysis"
   ]
  },
  {
   "cell_type": "markdown",
   "metadata": {},
   "source": [
    "##### Count the number of title containing characters 'corona'"
   ]
  },
  {
   "cell_type": "code",
   "execution_count": 278,
   "metadata": {},
   "outputs": [
    {
     "data": {
      "text/plain": [
       "(3208, 5)"
      ]
     },
     "execution_count": 278,
     "metadata": {},
     "output_type": "execute_result"
    }
   ],
   "source": [
    "posts[posts.title.str.contains('corona')].shape"
   ]
  },
  {
   "cell_type": "markdown",
   "metadata": {},
   "source": [
    "#### Less than half of the submissions contain word 'corona', meaning that most of the submissions may well focusing on topics relating to corona but not exactly the virus."
   ]
  },
  {
   "cell_type": "code",
   "execution_count": 279,
   "metadata": {},
   "outputs": [
    {
     "data": {
      "image/png": "[encoded data removed]",
      "text/plain": [
       "<Figure size 432x288 with 1 Axes>"
      ]
     },
     "metadata": {
      "needs_background": "light"
     },
     "output_type": "display_data"
    }
   ],
   "source": [
    "plt.hist(posts['created'])\n",
    "plt.xticks(rotation=90)\n",
    "plt.show()"
   ]
  },
  {
   "cell_type": "markdown",
   "metadata": {},
   "source": [
    "#### There is a periodic pattern according to the plot. The number of submissions mainly concentrate between 12 to 18 which is afternoon time."
   ]
  },
  {
   "cell_type": "markdown",
   "metadata": {},
   "source": [
    "#### Count the hot words and filtering out the stoping words and numbers in submissions' title"
   ]
  },
  {
   "cell_type": "code",
   "execution_count": 210,
   "metadata": {},
   "outputs": [],
   "source": [
    "from stop_words import get_stop_words\n",
    "import nltk\n",
    "from nltk.corpus import stopwords"
   ]
  },
  {
   "cell_type": "code",
   "execution_count": 215,
   "metadata": {},
   "outputs": [],
   "source": [
    "stop_words = list(get_stop_words('en'))         \n",
    "nltk_words = list(stopwords.words('english'))   \n",
    "stop_words.extend(nltk_words)\n",
    "stop_words.extend([1,2,3,4,5,6,7,8,9])"
   ]
  },
  {
   "cell_type": "code",
   "execution_count": 280,
   "metadata": {},
   "outputs": [],
   "source": [
    "dic={}\n",
    "for title in posts.title:\n",
    "    sentence=title.split()\n",
    "    for word in sentence:\n",
    "        if word in stop_words:\n",
    "            continue\n",
    "        if bool(re.search(r'[0-9]',word)):\n",
    "            continue\n",
    "        if word not in dic:\n",
    "            dic[word]=1\n",
    "        else:\n",
    "            dic[word]+=1\n",
    "dic=sorted(dic.items(),key=lambda d:d[1],reverse=True)"
   ]
  },
  {
   "cell_type": "code",
   "execution_count": 281,
   "metadata": {},
   "outputs": [
    {
     "name": "stdout",
     "output_type": "stream",
     "text": [
      "The 1 hot word is ('coronavirus', 2954)\n",
      "The 2 hot word is ('covid', 1335)\n",
      "The 3 hot word is ('cases', 917)\n",
      "The 4 hot word is ('new', 689)\n",
      "The 5 hot word is ('people', 581)\n",
      "The 6 hot word is ('virus', 489)\n",
      "The 7 hot word is ('italy', 394)\n",
      "The 8 hot word is ('positive', 381)\n",
      "The 9 hot word is ('home', 367)\n",
      "The 10 hot word is ('india', 319)\n",
      "The 11 hot word is ('stay', 312)\n",
      "The 12 hot word is ('help', 300)\n",
      "The 13 hot word is ('china', 300)\n",
      "The 14 hot word is ('corona', 292)\n",
      "The 15 hot word is ('pandemic', 288)\n",
      "The 16 hot word is ('deaths', 273)\n",
      "The 17 hot word is ('usa', 264)\n",
      "The 18 hot word is ('says', 261)\n",
      "The 19 hot word is ('first', 258)\n",
      "The 20 hot word is ('lockdown', 251)\n",
      "The 21 hot word is ('total', 245)\n",
      "The 22 hot word is ('health', 245)\n",
      "The 23 hot word is ('test', 236)\n",
      "The 24 hot word is ('quarantine', 225)\n",
      "The 25 hot word is ('masks', 225)\n",
      "The 26 hot word is ('death', 223)\n",
      "The 27 hot word is ('world', 216)\n",
      "The 28 hot word is ('tests', 213)\n",
      "The 29 hot word is ('medical', 206)\n",
      "The 30 hot word is ('state', 197)\n"
     ]
    }
   ],
   "source": [
    "### Set the order number\n",
    "submission_list={}\n",
    "limit=30\n",
    "for i in dic:\n",
    "    print(\"The\",31-limit,'hot word is', i)\n",
    "    submission_list[i[0]]=1\n",
    "    limit-=1\n",
    "    if limit==0:\n",
    "        break"
   ]
  },
  {
   "cell_type": "markdown",
   "metadata": {},
   "source": [
    "#### do the same thing in comments"
   ]
  },
  {
   "cell_type": "code",
   "execution_count": 282,
   "metadata": {},
   "outputs": [],
   "source": [
    "dic_comment={}\n",
    "for title in comment.comment:\n",
    "    sentence=title.split()\n",
    "    for word in sentence:\n",
    "        if word in stop_words:\n",
    "            continue\n",
    "        if bool(re.search(r'[0-9]',word)):\n",
    "            continue\n",
    "        if word not in dic_comment:\n",
    "            dic_comment[word]=1\n",
    "        else:\n",
    "            dic_comment[word]+=1\n",
    "dic_comment=sorted(dic_comment.items(),key=lambda d:d[1],reverse=True)"
   ]
  },
  {
   "cell_type": "code",
   "execution_count": 283,
   "metadata": {},
   "outputs": [
    {
     "name": "stdout",
     "output_type": "stream",
     "text": [
      "The 1 hot word is ('people', 8155)\n",
      "The 2 hot word is ('like', 3990)\n",
      "The 3 hot word is ('get', 3743)\n",
      "The 4 hot word is ('going', 2702)\n",
      "The 5 hot word is ('one', 2682)\n",
      "The 6 hot word is ('cases', 2624)\n",
      "The 7 hot word is ('virus', 2592)\n",
      "The 8 hot word is ('time', 2306)\n",
      "The 9 hot word is ('need', 2288)\n",
      "The 10 hot word is ('https', 2172)\n",
      "The 11 hot word is ('still', 2109)\n",
      "The 12 hot word is ('even', 2099)\n",
      "The 13 hot word is ('good', 1962)\n",
      "The 14 hot word is ('go', 1961)\n",
      "The 15 hot word is ('coronavirus', 1944)\n",
      "The 16 hot word is ('know', 1910)\n",
      "The 17 hot word is ('home', 1861)\n",
      "The 18 hot word is ('work', 1746)\n",
      "The 19 hot word is ('many', 1725)\n",
      "The 20 hot word is ('china', 1674)\n",
      "The 21 hot word is ('think', 1666)\n",
      "The 22 hot word is ('really', 1581)\n",
      "The 23 hot word is ('see', 1562)\n",
      "The 24 hot word is ('right', 1552)\n",
      "The 25 hot word is ('com', 1529)\n",
      "The 26 hot word is ('also', 1516)\n",
      "The 27 hot word is ('us', 1497)\n",
      "The 28 hot word is ('day', 1462)\n",
      "The 29 hot word is ('days', 1448)\n",
      "The 30 hot word is ('new', 1414)\n"
     ]
    }
   ],
   "source": [
    "comment_list={}\n",
    "limit=30\n",
    "for i in dic_comment:\n",
    "    print(\"The\",31-limit,'hot word is', i)\n",
    "    comment_list[i[0]]=1\n",
    "    limit-=1\n",
    "    if limit==0:\n",
    "        break"
   ]
  },
  {
   "cell_type": "code",
   "execution_count": 284,
   "metadata": {},
   "outputs": [
    {
     "name": "stdout",
     "output_type": "stream",
     "text": [
      "The common top word in both submission and comment is:\n",
      "coronavirus\n",
      "cases\n",
      "new\n",
      "people\n",
      "virus\n",
      "home\n",
      "china\n"
     ]
    }
   ],
   "source": [
    "print('The common top word in both submission and comment is:')\n",
    "for i in submission_list:\n",
    "    if i in comment_list:\n",
    "        print(i)"
   ]
  },
  {
   "cell_type": "markdown",
   "metadata": {},
   "source": [
    "#### We can see that in submission title and comment body, people are focusing most on \"coronavirus \" and the country that have been referenced the most is China. Also people focus a lot on people and home and number of cases. Especially new cases."
   ]
  },
  {
   "cell_type": "code",
   "execution_count": 300,
   "metadata": {},
   "outputs": [
    {
     "data": {
      "text/plain": [
       "<matplotlib.collections.PathCollection at 0x21fb457e108>"
      ]
     },
     "execution_count": 300,
     "metadata": {},
     "output_type": "execute_result"
    },
    {
     "data": {
      "image/png": "[encoded data removed]",
      "text/plain": [
       "<Figure size 432x288 with 1 Axes>"
      ]
     },
     "metadata": {
      "needs_background": "light"
     },
     "output_type": "display_data"
    }
   ],
   "source": [
    "plt.scatter(comment.subcomments_num,comment.score)"
   ]
  },
  {
   "cell_type": "code",
   "execution_count": 302,
   "metadata": {},
   "outputs": [
    {
     "data": {
      "text/plain": [
       "1    8153\n",
       "2      46\n",
       "0       7\n",
       "Name: score, dtype: int64"
      ]
     },
     "execution_count": 302,
     "metadata": {},
     "output_type": "execute_result"
    }
   ],
   "source": [
    "posts.score.value_counts()"
   ]
  },
  {
   "cell_type": "markdown",
   "metadata": {},
   "source": [
    "#### In the comments, there is a slight trend that the larger the subcomments number is, the more likely it can havea higher score. In the submissions, most submissions are scored 1."
   ]
  },
  {
   "cell_type": "markdown",
   "metadata": {},
   "source": [
    "## Use LDA to cluster the topic and see what may contribute to the difference"
   ]
  },
  {
   "cell_type": "code",
   "execution_count": 306,
   "metadata": {},
   "outputs": [],
   "source": [
    "from sklearn.feature_extraction.text import CountVectorizer\n",
    "from sklearn.decomposition import LatentDirichletAllocation"
   ]
  },
  {
   "cell_type": "code",
   "execution_count": 337,
   "metadata": {},
   "outputs": [],
   "source": [
    "cntVector=CountVectorizer()\n",
    "topic = cntVector.fit_transform(posts.title)"
   ]
  },
  {
   "cell_type": "code",
   "execution_count": 308,
   "metadata": {},
   "outputs": [],
   "source": [
    "lda = LatentDirichletAllocation(n_components=2,learning_offset=66,random_state=666)"
   ]
  },
  {
   "cell_type": "code",
   "execution_count": 309,
   "metadata": {},
   "outputs": [],
   "source": [
    "cluster_result = lda.fit_transform(topic)"
   ]
  },
  {
   "cell_type": "code",
   "execution_count": 315,
   "metadata": {},
   "outputs": [],
   "source": [
    "posts_cluster=cluster_result[:,0]"
   ]
  },
  {
   "cell_type": "code",
   "execution_count": 319,
   "metadata": {},
   "outputs": [
    {
     "data": {
      "text/plain": [
       "array([0., 0., 1., ..., 0., 1., 1.])"
      ]
     },
     "execution_count": 319,
     "metadata": {},
     "output_type": "execute_result"
    }
   ],
   "source": [
    "for i,obj in enumerate(posts_cluster):\n",
    "    if obj>0.5:\n",
    "        posts_cluster[i]=1\n",
    "    else:\n",
    "        posts_cluster[i]=0\n",
    "posts_cluster"
   ]
  },
  {
   "cell_type": "code",
   "execution_count": 320,
   "metadata": {},
   "outputs": [],
   "source": [
    "posts['cluster']=posts_cluster"
   ]
  },
  {
   "cell_type": "code",
   "execution_count": 323,
   "metadata": {},
   "outputs": [
    {
     "data": {
      "text/html": [
       "<div>\n",
       "<style scoped>\n",
       "    .dataframe tbody tr th:only-of-type {\n",
       "        vertical-align: middle;\n",
       "    }\n",
       "\n",
       "    .dataframe tbody tr th {\n",
       "        vertical-align: top;\n",
       "    }\n",
       "\n",
       "    .dataframe thead th {\n",
       "        text-align: right;\n",
       "    }\n",
       "</style>\n",
       "<table border=\"1\" class=\"dataframe\">\n",
       "  <thead>\n",
       "    <tr style=\"text-align: right;\">\n",
       "      <th></th>\n",
       "      <th>score</th>\n",
       "      <th>numComms</th>\n",
       "    </tr>\n",
       "    <tr>\n",
       "      <th>cluster</th>\n",
       "      <th></th>\n",
       "      <th></th>\n",
       "    </tr>\n",
       "  </thead>\n",
       "  <tbody>\n",
       "    <tr>\n",
       "      <td>0.0</td>\n",
       "      <td>1.004374</td>\n",
       "      <td>26.696738</td>\n",
       "    </tr>\n",
       "    <tr>\n",
       "      <td>1.0</td>\n",
       "      <td>1.005517</td>\n",
       "      <td>14.205223</td>\n",
       "    </tr>\n",
       "  </tbody>\n",
       "</table>\n",
       "</div>"
      ],
      "text/plain": [
       "            score   numComms\n",
       "cluster                     \n",
       "0.0      1.004374  26.696738\n",
       "1.0      1.005517  14.205223"
      ]
     },
     "execution_count": 323,
     "metadata": {},
     "output_type": "execute_result"
    }
   ],
   "source": [
    "posts.groupby('cluster')['score','numComms'].mean()"
   ]
  },
  {
   "cell_type": "code",
   "execution_count": 330,
   "metadata": {},
   "outputs": [],
   "source": [
    "def output_hotword(posts):\n",
    "    dic={}\n",
    "    for title in posts.title:\n",
    "        sentence=title.split()\n",
    "        for word in sentence:\n",
    "            if word in stop_words:\n",
    "                continue\n",
    "            if bool(re.search(r'[0-9]',word)):\n",
    "                continue\n",
    "            if word not in dic:\n",
    "                dic[word]=1\n",
    "            else:\n",
    "                dic[word]+=1\n",
    "    dic=sorted(dic.items(),key=lambda d:d[1],reverse=True)\n",
    "    comment_list={}\n",
    "    limit=30\n",
    "    for i in dic:\n",
    "        print(\"The\",31-limit,'hot word is', i)\n",
    "        comment_list[i[0]]=1\n",
    "        limit-=1\n",
    "        if limit==0:\n",
    "            break\n",
    "    return comment_list"
   ]
  },
  {
   "cell_type": "markdown",
   "metadata": {},
   "source": [
    "### Hot words of posts clustered 0"
   ]
  },
  {
   "cell_type": "code",
   "execution_count": 331,
   "metadata": {},
   "outputs": [
    {
     "name": "stdout",
     "output_type": "stream",
     "text": [
      "The 1 hot word is ('coronavirus', 1715)\n",
      "The 2 hot word is ('cases', 641)\n",
      "The 3 hot word is ('covid', 563)\n",
      "The 4 hot word is ('people', 536)\n",
      "The 5 hot word is ('new', 531)\n",
      "The 6 hot word is ('italy', 372)\n",
      "The 7 hot word is ('virus', 354)\n",
      "The 8 hot word is ('home', 343)\n",
      "The 9 hot word is ('stay', 305)\n",
      "The 10 hot word is ('help', 268)\n",
      "The 11 hot word is ('india', 251)\n",
      "The 12 hot word is ('deaths', 230)\n",
      "The 13 hot word is ('china', 225)\n",
      "The 14 hot word is ('corona', 211)\n",
      "The 15 hot word is ('lockdown', 211)\n",
      "The 16 hot word is ('masks', 207)\n",
      "The 17 hot word is ('total', 206)\n",
      "The 18 hot word is ('health', 205)\n",
      "The 19 hot word is ('pandemic', 203)\n",
      "The 20 hot word is ('says', 199)\n",
      "The 21 hot word is ('quarantine', 186)\n",
      "The 22 hot word is ('usa', 180)\n",
      "The 23 hot word is ('medical', 177)\n",
      "The 24 hot word is ('workers', 175)\n",
      "The 25 hot word is ('state', 167)\n",
      "The 26 hot word is ('positive', 165)\n",
      "The 27 hot word is ('spread', 160)\n",
      "The 28 hot word is ('day', 150)\n",
      "The 29 hot word is ('march', 150)\n",
      "The 30 hot word is ('days', 147)\n"
     ]
    }
   ],
   "source": [
    "posts_1=output_hotword(posts[posts['cluster']==0])"
   ]
  },
  {
   "cell_type": "markdown",
   "metadata": {},
   "source": [
    "### Hot words of posts clustered 1"
   ]
  },
  {
   "cell_type": "code",
   "execution_count": 332,
   "metadata": {},
   "outputs": [
    {
     "name": "stdout",
     "output_type": "stream",
     "text": [
      "The 1 hot word is ('coronavirus', 1239)\n",
      "The 2 hot word is ('covid', 772)\n",
      "The 3 hot word is ('cases', 276)\n",
      "The 4 hot word is ('positive', 216)\n",
      "The 5 hot word is ('new', 158)\n",
      "The 6 hot word is ('tests', 153)\n",
      "The 7 hot word is ('first', 150)\n",
      "The 8 hot word is ('test', 145)\n",
      "The 9 hot word is ('virus', 135)\n",
      "The 10 hot word is ('death', 116)\n",
      "The 11 hot word is ('confirmed', 87)\n",
      "The 12 hot word is ('news', 85)\n",
      "The 13 hot word is ('pandemic', 85)\n",
      "The 14 hot word is ('usa', 84)\n",
      "The 15 hot word is ('corona', 81)\n",
      "The 16 hot word is ('world', 79)\n",
      "The 17 hot word is ('case', 79)\n",
      "The 18 hot word is ('china', 75)\n",
      "The 19 hot word is ('trump', 74)\n",
      "The 20 hot word is ('live', 72)\n",
      "The 21 hot word is ('india', 68)\n",
      "The 22 hot word is ('testing', 63)\n",
      "The 23 hot word is ('says', 62)\n",
      "The 24 hot word is ('county', 59)\n",
      "The 25 hot word is ('weinstein', 58)\n",
      "The 26 hot word is ('harvey', 57)\n",
      "The 27 hot word is ('tested', 54)\n",
      "The 28 hot word is ('get', 53)\n",
      "The 29 hot word is ('amid', 51)\n",
      "The 30 hot word is ('treatment', 50)\n"
     ]
    }
   ],
   "source": [
    "posts_2=output_hotword(posts[posts['cluster']==1])"
   ]
  },
  {
   "cell_type": "code",
   "execution_count": 335,
   "metadata": {},
   "outputs": [
    {
     "name": "stdout",
     "output_type": "stream",
     "text": [
      "In cluster posts_0 not posts_1\n",
      "people\n",
      "italy\n",
      "home\n",
      "stay\n",
      "help\n",
      "deaths\n",
      "lockdown\n",
      "masks\n",
      "total\n",
      "health\n",
      "quarantine\n",
      "medical\n",
      "workers\n",
      "state\n",
      "spread\n",
      "day\n",
      "march\n",
      "days\n",
      "\n",
      "\n",
      "In cluster posts_1 not posts_0\n",
      "tests\n",
      "first\n",
      "test\n",
      "death\n",
      "confirmed\n",
      "news\n",
      "world\n",
      "case\n",
      "trump\n",
      "live\n",
      "testing\n",
      "county\n",
      "weinstein\n",
      "harvey\n",
      "tested\n",
      "get\n",
      "amid\n",
      "treatment\n"
     ]
    }
   ],
   "source": [
    "### difference between cluster 0 and 1\n",
    "## In posts_1 not posts_2\n",
    "print('In cluster posts_0 not posts_1')\n",
    "for i in posts_1:\n",
    "    if i not in posts_2:\n",
    "        print(i)\n",
    "\n",
    "print('\\n')\n",
    "## In posts_2 not posts_1\n",
    "print('In cluster posts_1 not posts_0')\n",
    "for i in posts_2:\n",
    "    if i not in posts_1:\n",
    "        print(i)"
   ]
  },
  {
   "cell_type": "markdown",
   "metadata": {},
   "source": [
    "### Posts of cluster 0 gains more comments. The words it have that may contribute to that are listed above. Thus we can see that people care about 'people' and 'italy' a lot  and trump and death are not quite considered. Same thing can be done in comments."
   ]
  }
 ],
 "metadata": {
  "kernelspec": {
   "display_name": "Python 3",
   "language": "python",
   "name": "python3"
  }
 },
 "nbformat": 4,
 "nbformat_minor": 2
}
